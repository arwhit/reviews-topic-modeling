{
  "nbformat": 4,
  "nbformat_minor": 0,
  "metadata": {
    "colab": {
      "provenance": [],
      "gpuType": "T4"
    },
    "kernelspec": {
      "name": "python3",
      "display_name": "Python 3"
    },
    "language_info": {
      "name": "python"
    },
    "accelerator": "GPU"
  },
  "cells": [
    {
      "cell_type": "markdown",
      "source": [
        "#Unsupervised Text Classification of Amazon Reviews\n",
        "This is the final project for DTSA 5799 (Unsupervised Text Classification For Marketing Analytics)\n",
        "\n",
        "Reviews of Nike products with less than 4 stars are extracted from the Amazon review dataset and split into topics using k-means clustering in an effort to gain insight on what may influence a customer to leave a negative review.\n",
        "\n",
        "You can also view the project on my GitHub repository here:\n",
        "https://github.com/arwhit/reviews-topic-modeling"
      ],
      "metadata": {
        "id": "BKNLTigLfKmu"
      }
    },
    {
      "cell_type": "code",
      "execution_count": 1,
      "metadata": {
        "id": "lhKnhHWtfJDt",
        "colab": {
          "base_uri": "https://localhost:8080/",
          "height": 0
        },
        "outputId": "15ad52fa-d5ff-4a03-f58a-1c2a5cc5f6e9"
      },
      "outputs": [
        {
          "output_type": "stream",
          "name": "stdout",
          "text": [
            "Requirement already satisfied: textblob in /usr/local/lib/python3.10/dist-packages (0.17.1)\n",
            "Requirement already satisfied: nltk>=3.1 in /usr/local/lib/python3.10/dist-packages (from textblob) (3.8.1)\n",
            "Requirement already satisfied: click in /usr/local/lib/python3.10/dist-packages (from nltk>=3.1->textblob) (8.1.7)\n",
            "Requirement already satisfied: joblib in /usr/local/lib/python3.10/dist-packages (from nltk>=3.1->textblob) (1.4.2)\n",
            "Requirement already satisfied: regex>=2021.8.3 in /usr/local/lib/python3.10/dist-packages (from nltk>=3.1->textblob) (2024.5.15)\n",
            "Requirement already satisfied: tqdm in /usr/local/lib/python3.10/dist-packages (from nltk>=3.1->textblob) (4.66.4)\n",
            "Requirement already satisfied: scikit-learn in /usr/local/lib/python3.10/dist-packages (1.5.0)\n",
            "Requirement already satisfied: numpy>=1.19.5 in /usr/local/lib/python3.10/dist-packages (from scikit-learn) (1.25.2)\n",
            "Requirement already satisfied: scipy>=1.6.0 in /usr/local/lib/python3.10/dist-packages (from scikit-learn) (1.11.4)\n",
            "Requirement already satisfied: joblib>=1.2.0 in /usr/local/lib/python3.10/dist-packages (from scikit-learn) (1.4.2)\n",
            "Requirement already satisfied: threadpoolctl>=3.1.0 in /usr/local/lib/python3.10/dist-packages (from scikit-learn) (3.5.0)\n"
          ]
        }
      ],
      "source": [
        "#Install and Import Required Packages\n",
        "!pip install textblob\n",
        "!pip install -U scikit-learn\n",
        "import gzip\n",
        "import json\n",
        "import requests\n",
        "import numpy as np\n",
        "from textblob import TextBlob\n",
        "import spacy\n",
        "import re\n",
        "import sklearn\n",
        "from sklearn.feature_extraction.text import TfidfVectorizer\n",
        "from sklearn.decomposition import TruncatedSVD\n",
        "from sklearn.pipeline import make_pipeline\n",
        "from sklearn.preprocessing import Normalizer\n",
        "from sklearn.cluster import KMeans\n",
        "from sklearn.metrics import silhouette_score\n",
        "import matplotlib.pyplot as plt"
      ]
    },
    {
      "cell_type": "markdown",
      "source": [
        "## Data Extraction and Exploration\n",
        "**Note:** This section describes the process of extracting Nike reviews with less than 4 stars for topic modeling following much of the methodology established in the course labs.\n",
        "\n",
        "While you can follow along using the reference files provided in class and saving them to your Google Drive, the default behavior utilizes pre-extracted data hosted in a public Git repository. This approach reduces runtime and ensures usability even if the original reference files become unavailable or their URLs change."
      ],
      "metadata": {
        "id": "ULRhupFeg4JG"
      }
    },
    {
      "cell_type": "code",
      "source": [
        "#Set boolean value to determine starting point\n",
        "full_extract=False\n",
        "#Case for full extraction with matching google drive file path (following tutorial from lab coursework)\n",
        "if full_extract==True:\n",
        "  #mount drive\n",
        "  from google.colab import drive\n",
        "  drive.mount('/content/drive')\n",
        "  #extract asins\n",
        "  asins = []\n",
        "  with gzip.open(\"/content/drive/MyDrive/Masters_Degree/Text_Marketing_Analytics/HW_Files/meta_Clothing_Shoes_and_Jewelry.gz\") as products:\n",
        "    for product in products:\n",
        "        data = json.loads(product)\n",
        "        categories = []\n",
        "        for category_list in data.get(\"categories\", []):\n",
        "            _catlist = []\n",
        "            for item in category_list:\n",
        "                _catlist.append(item.lower())\n",
        "            categories += _catlist\n",
        "        if \"nike\" in categories:\n",
        "            asins.append(data[\"asin\"])\n",
        "  #extract reviews with less than 4 stars\n",
        "  bad_reviews = {}\n",
        "  with gzip.open(\"/content/drive/MyDrive/Masters_Degree/Text_Marketing_Analytics/HW_Files/reviews_Clothing_Shoes_and_Jewelry.gz\") as reviews:\n",
        "    for i, review in enumerate(reviews):\n",
        "        review = json.loads(review)\n",
        "        if review[\"overall\"] < 4 and review[\"asin\"] in asins:\n",
        "          _id = \"%s.%s\" % (review[\"asin\"], review[\"reviewerID\"])\n",
        "          if review['asin'] in asins:\n",
        "            bad_reviews[_id]=review\n",
        "  print(len(bad_reviews), ' bad reviews extracted for further analysis')\n",
        "  #write to file\n",
        "  with open(\"/content/drive/MyDrive/Masters_Degree/Text_Marketing_Analytics/HW_Files/extracted_bad_reviews.jsonl\", \"w\") as bad_reviews_file:\n",
        "    for k, v in bad_reviews.items():\n",
        "        review = json.dumps(v)\n",
        "        bad_reviews_file.write(f\"{review}\\n\")\n",
        "\n",
        "#Case for referencing extracted reviews from git repository\n",
        "else:\n",
        "  extracted_bad_reviews=[]\n",
        "  #specify url of jsonl file with the bad reviews\n",
        "  url=\"https://raw.githubusercontent.com/arwhit/reviews-topic-modeling/main/extracted_bad_reviews.jsonl\"\n",
        "  response = requests.get(url)\n",
        "  #Iterate through each line:\n",
        "  for line in response.text.splitlines():\n",
        "    review = json.loads(line)\n",
        "    review_text=review[\"reviewText\"]\n",
        "    extracted_bad_reviews.append(review_text)\n",
        "\n",
        "  print(len(extracted_bad_reviews), 'bad reviews have been extracted. Here is an example: \\n')\n",
        "  print(extracted_bad_reviews[0])\n"
      ],
      "metadata": {
        "id": "9vV-scdkiACd",
        "colab": {
          "base_uri": "https://localhost:8080/",
          "height": 0
        },
        "outputId": "f1260553-36c4-4ba4-dbe2-f9fb107fee8d"
      },
      "execution_count": 3,
      "outputs": [
        {
          "output_type": "stream",
          "name": "stdout",
          "text": [
            "3903 bad reviews have been extracted. Here is an example: \n",
            "\n",
            "the colour i received is not blue as shown but yellow.Couldnt change it because it was a birthday present for my daughter and havent got time.She really didn,t like it\n"
          ]
        }
      ]
    },
    {
      "cell_type": "markdown",
      "source": [
        "## Preprocessing\n",
        "A total of 3,903 negative reviews were extracted. Manually labeling such a large volume of data would be time-consuming, highlighting the potential of unsupervised classification as an initial approach to uncover categories within the reviews.\n",
        "\n",
        "To optimize model performance and reduce the document-term matrix (DTM) size, we employ the following pre-processing steps:\n",
        "\n",
        "* **Lowercase:** This will help ensure words from different reviews that have different cases will be identified as the same\n",
        "* **Spellcheck:** This data set has many spelling error. For example \"didn,t\" instead of \"didn't\" in the first review. We will use Textblobs built in corrector to address this.\n",
        "* **Lemmatization:** This process converts words to their base form (e.g., \"running\" becomes \"run\"). Lemmatization helps capture the underlying meaning of words and improves model generalizability.\n",
        "* **Stopword removal:** We eliminate common words with minimal semantic meaning (e.g., \"the\", \"a\", \"and\"). Removing stopwords reduces noise and allows the model to focus on content-bearing words.\n",
        "* **Special character and punctuation removal:** Non-alphanumeric characters and punctuation are removed from the text (e.g., \"@\", \"$\", \"?\"). This step ensures the model processes meaningful textual content."
      ],
      "metadata": {
        "id": "CwRIqcvx6yyT"
      }
    },
    {
      "cell_type": "code",
      "source": [
        "#Create Empty List for Cleaned Reviews\n",
        "preprocessed_bad_reviews=[]\n",
        "\n",
        "#Specify lemmatizer\n",
        "spacy.require_gpu()\n",
        "lemmatizer = spacy.load('en_core_web_sm')\n",
        "\n",
        "#Iterate through list and preprocess the reviews\n",
        "for review in extracted_bad_reviews:\n",
        "  #lowercase\n",
        "  review = review.lower()\n",
        "  #spellcheck\n",
        "  blob = TextBlob(review)\n",
        "  corrected_review = blob.correct()\n",
        "  filtered_text = str(corrected_review)\n",
        "  #lemmatize\n",
        "  doc = lemmatizer(filtered_text)\n",
        "  #lemmatized_text = \" \".join([token.lemma_ for token in doc])\n",
        "  #Remove Stopwords\n",
        "  filtered_words = [token.text for token in doc if not token.is_stop]\n",
        "  filtered_text = \" \".join(filtered_words)\n",
        "  #remove special characters and punctuation\n",
        "  punc_removed_text = re.sub(r\"[^\\w\\s]\", ' ', filtered_text)\n",
        "  preprocessed_bad_reviews.append(punc_removed_text)\n",
        "\n",
        "print('All reviews have been preprocessed. Here is an example: \\n')\n",
        "print(preprocessed_bad_reviews[0])\n"
      ],
      "metadata": {
        "id": "YDQcLnJL1kCI",
        "colab": {
          "base_uri": "https://localhost:8080/",
          "height": 0
        },
        "outputId": "75b4520e-aebb-439f-8d88-9635506eb38b"
      },
      "execution_count": 4,
      "outputs": [
        {
          "output_type": "stream",
          "name": "stdout",
          "text": [
            "All reviews have been preprocessed. Here is an example: \n",
            "\n",
            "colour received blue shown yellow couldn change birthday present daughter haven got time she didn   t like\n"
          ]
        }
      ]
    },
    {
      "cell_type": "markdown",
      "source": [
        "We now proceed to create the document-term matrix (DTM) that will serve as input for the topic models. Following common practice in unsupervised text classification, we employ Term Frequency-Inverse Document Frequency (TF-IDF) to weight terms within the DTM.\n",
        "\n",
        "To further reduce the matrix size and focus on informative terms, we adopt the following filtering strategies:\n",
        "\n",
        "* **Exclusion of common words:** We disregard words appearing in more than 50% of the reviews, as these are likely to be stop words with minimal discriminatory power.\n",
        "* **Rare word removal:** We exclude words that occur in less than 5 reviews, as their infrequency limits their contribution to topic identification."
      ],
      "metadata": {
        "id": "XWttPEX4A2eH"
      }
    },
    {
      "cell_type": "code",
      "source": [
        "tfidf_vectorizer = TfidfVectorizer(max_df=0.5, min_df=5, stop_words='english')\n",
        "tfidf = tfidf_vectorizer.fit_transform(preprocessed_bad_reviews)\n",
        "print(f\"n_samples: {tfidf.shape[0]}, n_features: {tfidf.shape[1]}\\n\")\n",
        "print(f\"Nonzero terms: {100*tfidf.nnz / np.prod(tfidf.shape):.3f}%\")"
      ],
      "metadata": {
        "id": "myimwfWlBdiz",
        "colab": {
          "base_uri": "https://localhost:8080/",
          "height": 0
        },
        "outputId": "d2ccfb2b-79ea-444d-863a-472578a5f523"
      },
      "execution_count": 82,
      "outputs": [
        {
          "output_type": "stream",
          "name": "stdout",
          "text": [
            "n_samples: 3903, n_features: 2077\n",
            "\n",
            "Nonzero terms: 0.872%\n"
          ]
        }
      ]
    },
    {
      "cell_type": "markdown",
      "source": [
        "That's still a lot of features and nonzero terms. We will further reduce the number of features using Single Value Decomposition (SVD) to make the matrix less sparse in an attempt to avoid the \"curse of dimmensionality\". This should also help reduce the runtime."
      ],
      "metadata": {
        "id": "SOsKYihw0wVI"
      }
    },
    {
      "cell_type": "code",
      "source": [
        "#Reduce to 100 Components\n",
        "reduced = make_pipeline(TruncatedSVD(n_components=100, random_state=5), Normalizer(copy=False))\n",
        "SVD_reduced = reduced.fit_transform(tfidf)\n",
        "explained_variance = reduced[0].explained_variance_ratio_.sum()\n",
        "print(f\"n_components:{100}, explained variance: {100*explained_variance:.1f}%\")"
      ],
      "metadata": {
        "colab": {
          "base_uri": "https://localhost:8080/",
          "height": 0
        },
        "id": "NGBb_TfX8s53",
        "outputId": "a1fa7c87-2984-4efa-c3a8-e3859edf5a41"
      },
      "execution_count": 83,
      "outputs": [
        {
          "output_type": "stream",
          "name": "stdout",
          "text": [
            "n_components:100, explained variance: 32.1%\n"
          ]
        }
      ]
    },
    {
      "cell_type": "markdown",
      "source": [
        "We see over 30% of the feature space can be represented by only 100 components."
      ],
      "metadata": {
        "id": "BvbxKuN_7JAC"
      }
    },
    {
      "cell_type": "markdown",
      "source": [
        "## Data Modeling\n",
        "Now that the data has been vectorized and reduced we can start topic modeling. We will attempt to use k-means clustering as an usupervised learning approach. Since we do not have labels for the data, we need to establish some other metrics to determine the ideal model to use. We will attempt to use both the within clustter sum of squares and silloute score to select the optimal numbers of clusters"
      ],
      "metadata": {
        "id": "HKInj3eghdTm"
      }
    },
    {
      "cell_type": "code",
      "source": [
        "#Fit models from 2 to 10 cluster size\n",
        "n_clusters=list(range(2,11))\n",
        "WCSS=[]\n",
        "Silhouette=[]\n",
        "for clusters in n_clusters:\n",
        "  kmeans = KMeans(\n",
        "    n_clusters=clusters,\n",
        "    max_iter=100,\n",
        "    n_init=1,\n",
        "    random_state=5)\n",
        "  kmeans.fit(SVD_reduced)\n",
        "  #Record the Within-Cluster Sum of Squares\n",
        "  WCSS.append(kmeans.inertia_)\n",
        "  #Record the Silhouette Score\n",
        "  Silhouette.append(silhouette_score(SVD_reduced, kmeans.labels_))"
      ],
      "metadata": {
        "id": "WqU2dfHaiA7f"
      },
      "execution_count": 84,
      "outputs": []
    },
    {
      "cell_type": "code",
      "source": [
        "# Define distinct colors and markers for WCSS and Silhouette\n",
        "wcss_color = 'blue'\n",
        "wcss_marker = 'o'\n",
        "silhouette_color = 'orange'\n",
        "silhouette_marker = 's'\n",
        "\n",
        "# Create the figure and primary axis\n",
        "fig, ax1 = plt.subplots()\n",
        "\n",
        "# WCSS plot on primary axis\n",
        "ax1.set_xlabel('Number of Clusters')\n",
        "ax1.set_ylabel('WCSS', color=wcss_color)\n",
        "ax1.plot(n_clusters, WCSS, marker=wcss_marker, linestyle='-', color=wcss_color, label='WCSS')\n",
        "\n",
        "# Silhouette Score plot on secondary axis (using twinx)\n",
        "ax2 = ax1.twinx()\n",
        "ax2.set_ylabel('Silhouette Score (Average)', color=silhouette_color)\n",
        "ax2.plot(n_clusters, Silhouette, marker=silhouette_marker, linestyle='-', color=silhouette_color, label='Silhouette Score')\n",
        "\n",
        "# Customize plot appearance for readability\n",
        "plt.title('WCSS and Silhouette Score Comparison for K-Means Clustering')\n",
        "plt.xticks(n_clusters)  # Set x-axis ticks for clarity\n",
        "plt.grid(True)\n",
        "plt.tight_layout()\n",
        "plt.show()"
      ],
      "metadata": {
        "colab": {
          "base_uri": "https://localhost:8080/",
          "height": 487
        },
        "id": "B71ANDreFVav",
        "outputId": "d2842847-bba1-4855-db81-4ea1f36d345e"
      },
      "execution_count": 85,
      "outputs": [
        {
          "output_type": "display_data",
          "data": {
            "text/plain": [
              "<Figure size 640x480 with 2 Axes>"
            ],
            "image/png": "[encoded data removed]"
          },
          "metadata": {}
        }
      ]
    },
    {
      "cell_type": "markdown",
      "source": [
        "Looking at the plot of WCSS and Silhouette score it appears 7 clusters is optimal for the k-means model. Let's extract the top words and see if they are meaningful. We will define a helpful word plotting funciton adapted from the sklearn documentaiton (see sources section)"
      ],
      "metadata": {
        "id": "wNCB33j0TGsr"
      }
    },
    {
      "cell_type": "code",
      "source": [
        "#Use optimal number of clusters\n",
        "kmeans = KMeans(\n",
        "    n_clusters=7,\n",
        "    max_iter=100,\n",
        "    n_init=1,\n",
        "    random_state=5)\n",
        "kmeans.fit(SVD_reduced)\n",
        "\n",
        "#Convert the Model back to words and explore the top words in each cluster\n",
        "original_space_centroids = reduced[0].inverse_transform(kmeans.cluster_centers_)\n",
        "order_centroids = original_space_centroids.argsort()[:, ::-1]\n",
        "terms = tfidf_vectorizer.get_feature_names_out()\n",
        "\n",
        "#Print Top Words In Each Cluster\n",
        "for i in range(7):\n",
        "    print(f\"Cluster {i+1}: \", end=\"\")\n",
        "    for ind in order_centroids[i, :15]:\n",
        "        print(f\"{terms[ind]} \", end=\"\")\n",
        "    print()"
      ],
      "metadata": {
        "id": "ciIU7bhZiBjl",
        "colab": {
          "base_uri": "https://localhost:8080/",
          "height": 0
        },
        "outputId": "bd8ff4d2-2f94-47af-c768-35a6be8f9862"
      },
      "execution_count": 93,
      "outputs": [
        {
          "output_type": "stream",
          "name": "stdout",
          "text": [
            "Cluster 1: product good quality like price expected buy material shoes time shoe poor better received disappointed \n",
            "Cluster 2: shoe like shoes running foot good comfortable wear support feet fit look looking sole buy \n",
            "Cluster 3: shoes like pair buy running bought shoe comfortable time good wear fit feet got run \n",
            "Cluster 4: color black white pink red like picture received shoes different wrong blue love shoe grey \n",
            "Cluster 5: size small ordered shoes fit 10 shoe wear like order tight larger bigger half 11 \n",
            "Cluster 6: watch band like wrist time battery broke face months bought watches year display strap looks \n",
            "Cluster 7: like feet fit look socks foot comfortable wear pair return 34 small great narrow speakers \n"
          ]
        }
      ]
    },
    {
      "cell_type": "markdown",
      "source": [
        "## Model Evaluation and Summary\n",
        "The model appears to have formed some ok topics, but there is always room for improvement. We will explore topics 1, 4,5, 6 and 7 in the Conclusions/Marketing Insights section, but will summarize the topics here:\n",
        "1. Product quality does not match the price.\n",
        "2. Shoes that are comfortable and a good fit (odd that these are under 3 stars)\n",
        "3. Running Shoes reviews\n",
        "4. The color does not match customers expectations.\n",
        "5. The SHOE size does not match customers expectations.\n",
        "6. Watches that have broken components\n",
        "7. More fit related reviews but not as shoe specific."
      ],
      "metadata": {
        "id": "MpPy7UfmhhaM"
      }
    },
    {
      "cell_type": "markdown",
      "source": [
        "## Conclusions and Marketing Insights\n",
        "Based on the cluster analysis, the following key recommendations can be made to improve customer satisfaction and marketing strategies:\n",
        "\n",
        "**Topic 1: Quality**\n",
        "* Observation: Customers expect premium materials for products priced at a premium. Disappointment with material quality leads to returns.\n",
        "* Action: Clearly communicate the quality of materials used in product descriptions. Highlight durable or high-quality materials in marketing materials and target messaging to emphasize value for the price point.\n",
        "\n",
        "**Topic 4: Color**\n",
        "* Observation:Inaccurate product color representation in pictures leads to returns.\n",
        "* Action: Invest in high-quality product photography that accurately reflects color variations. Consider including color swatches or using 360° product views. Include color variations in product titles to avoid confusion.\n",
        "\n",
        "\n",
        "**Topic 5 and 7: Fit**\n",
        "* Observation: Online shoe returns are high due to sizing inconsistencies.\n",
        "* Action: Develop a comprehensive size guide with clear instructions on measuring feet for proper fit. Offer customer reviews with insights on sizing (e.g., \"runs large\" or \"narrow fit\"). Consider a program for free return shipping on size exchanges.\n",
        "\n",
        "**Topic 6: Watch Design**\n",
        "* Observation:Watch returns are high due to breakage of watch face, wristband, or battery.\n",
        "* Action: Focus on manufacturing with high-quality, durable materials for these key components. Promote the watch's durability and lifespan in marketing campaigns. Consider offering extended warranties to build trust and confidence.\n",
        "\n",
        "\n",
        "It is also worth noting some customers leave positive written reviews with low star ratings. Encourage specific and detailed feedback in review prompts. Respond to all reviews, especially negative ones, and offer solutions or explanations where possible.\n",
        "\n",
        "Unsupervised clustering can be a quick way to identify and address customer pain points, improve brand perception, and ultimately reduce return rates and increase customer satisfaction"
      ],
      "metadata": {
        "id": "s5RdexVqhyjd"
      }
    },
    {
      "cell_type": "markdown",
      "source": [
        "## Sources\n",
        "1. https://cseweb.ucsd.edu/~jmcauley/datasets.html#amazon_reviews\n",
        "2. https://scikit-learn.org/stable/auto_examples/text/plot_document_clustering.html#sphx-glr-auto-examples-text-plot-document-clustering-py\n",
        "3. https://spacy.io/api\n",
        "4. https://textblob.readthedocs.io/en/dev/"
      ],
      "metadata": {
        "id": "8Q1aRLWih2hW"
      }
    }
  ]
}